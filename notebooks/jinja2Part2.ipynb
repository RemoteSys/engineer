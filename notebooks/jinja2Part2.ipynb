{
 "cells": [
  {
   "cell_type": "code",
   "execution_count": 1,
   "metadata": {},
   "outputs": [],
   "source": [
    "import numpy as np\n",
    "import pandas as pd\n",
    "from matplotlib import pyplot as plt\n",
    "import jinja2\n",
    "from pathlib import Path\n",
    "from IPython.core.display import display, HTML\n",
    "import json"
   ]
  },
  {
   "cell_type": "markdown",
   "metadata": {},
   "source": [
    "\n",
    "# Simple report document:\n",
    " \n",
    " 1. Creating a report template and saving it in an html file\n",
    " 2. Creating and saving a 'json' file with data for creating a report on the disk\n",
    " 3. Configuration of the 'jinja2' environment, creating a report\n",
    " 4. Styling the appearance of the document using the cascading 'css' style sheets\n",
    "\n",
    "---\n",
    "\n",
    "# Directory structure\n",
    "\n",
    "All data for the report will be saved as files in different directories. Each project has its own main (root) catalog with, for example:\n",
    "  - `data`: 'csv' files - input data and calculation results (tables)\n",
    "  - `forms`: pkili report forms, files 'css'\n",
    "  - `img`: image and drawing files\n",
    "  - `setup`: 'json' files, e.g. organizational data, settings for the script etc.\n",
    "\n",
    "\n",
    "---\n",
    "\n",
    "# 1. Creating a report template and saving it in an html file\n",
    "\n",
    "> Create a folder on the disk for form files, e.g. 'forms'"
   ]
  },
  {
   "cell_type": "code",
   "execution_count": 2,
   "metadata": {},
   "outputs": [
    {
     "name": "stdout",
     "output_type": "stream",
     "text": [
      "/home/u1/22_dydaktyka/04inzynier/proj1\n"
     ]
    }
   ],
   "source": [
    "%cd ../proj1/"
   ]
  },
  {
   "cell_type": "code",
   "execution_count": 3,
   "metadata": {},
   "outputs": [
    {
     "name": "stdout",
     "output_type": "stream",
     "text": [
      "first.css  form1.html  form2.html\r\n"
     ]
    }
   ],
   "source": [
    "# contents of the 'forms' directory\n",
    "%ls forms/"
   ]
  },
  {
   "cell_type": "code",
   "execution_count": 4,
   "metadata": {},
   "outputs": [
    {
     "name": "stdout",
     "output_type": "stream",
     "text": [
      "<!DOCTYPE html>\n",
      "<html>\n",
      "    <head>\n",
      "            <title>{{ Title }}</title>\n",
      "            <link rel=\"stylesheet\" href=\"path_to_css_file\">\n",
      "    </head>\n",
      "\n",
      "    <body>\n",
      "        <div>\n",
      "            <h1>General information</h1>\n",
      "            {% for key,val in general.items() %}\n",
      "              <li>{{ key }}: {{ val }}</li>\n",
      "            {% endfor %}\n",
      "        </div>\n",
      "\n",
      "    </body>\n",
      "</html>\n",
      "\n"
     ]
    }
   ],
   "source": [
    "# contents of the template file 'form1.html'\n",
    "with open('forms/form1.html') as f:\n",
    "    print(f.read())"
   ]
  },
  {
   "cell_type": "markdown",
   "metadata": {},
   "source": [
    "# 2. Creating and saving a 'json' file with data for creating a report on the disk"
   ]
  },
  {
   "cell_type": "code",
   "execution_count": 5,
   "metadata": {},
   "outputs": [
    {
     "data": {
      "text/plain": [
       "{'data': '2020-11-19',\n",
       " 'country': 'Albania',\n",
       " 'author': 'John Kowalski',\n",
       " 'faculty': 'medicine'}"
      ]
     },
     "execution_count": 5,
     "metadata": {},
     "output_type": "execute_result"
    }
   ],
   "source": [
    "key = 'data,country,author,faculty'\n",
    "val = '2020-11-19,Albania,John Kowalski,medicine'\n",
    "\n",
    "sl = dict(zip(key.split(','),val.split(',')))\n",
    "sl"
   ]
  },
  {
   "cell_type": "code",
   "execution_count": 6,
   "metadata": {},
   "outputs": [],
   "source": [
    "with open('setup/generalData.json','w') as f:\n",
    "    json.dump(sl,f,indent=4)"
   ]
  },
  {
   "cell_type": "code",
   "execution_count": 7,
   "metadata": {},
   "outputs": [
    {
     "name": "stdout",
     "output_type": "stream",
     "text": [
      "generalData.json\r\n"
     ]
    }
   ],
   "source": [
    "%ls setup/"
   ]
  },
  {
   "cell_type": "markdown",
   "metadata": {},
   "source": [
    "---\n",
    "\n",
    "# 3. Configuration of the `jinja2` environment, creating a report"
   ]
  },
  {
   "cell_type": "code",
   "execution_count": 8,
   "metadata": {},
   "outputs": [
    {
     "data": {
      "text/plain": [
       "<jinja2.loaders.FileSystemLoader at 0x7fade0d3d0d0>"
      ]
     },
     "execution_count": 8,
     "metadata": {},
     "output_type": "execute_result"
    }
   ],
   "source": [
    "# create loder to get templates from disc\n",
    "myLoader = jinja2.FileSystemLoader('forms/')\n",
    "myLoader"
   ]
  },
  {
   "cell_type": "code",
   "execution_count": 9,
   "metadata": {},
   "outputs": [
    {
     "name": "stdout",
     "output_type": "stream",
     "text": [
      "['first.css', 'form1.html', 'form2.html']\n"
     ]
    }
   ],
   "source": [
    "print(myLoader.list_templates())"
   ]
  },
  {
   "cell_type": "code",
   "execution_count": 10,
   "metadata": {},
   "outputs": [
    {
     "data": {
      "text/plain": [
       "<jinja2.environment.Environment at 0x7fade0d45550>"
      ]
     },
     "execution_count": 10,
     "metadata": {},
     "output_type": "execute_result"
    }
   ],
   "source": [
    "# create jinja2 environment with 'myLoader'\n",
    "env = jinja2.Environment(loader=myLoader)\n",
    "env"
   ]
  },
  {
   "cell_type": "code",
   "execution_count": 11,
   "metadata": {},
   "outputs": [
    {
     "name": "stdout",
     "output_type": "stream",
     "text": [
      "['first.css', 'form1.html', 'form2.html']\n"
     ]
    }
   ],
   "source": [
    "print(env.list_templates())"
   ]
  },
  {
   "cell_type": "code",
   "execution_count": 12,
   "metadata": {},
   "outputs": [
    {
     "data": {
      "text/plain": [
       "<Template 'form1.html'>"
      ]
     },
     "execution_count": 12,
     "metadata": {},
     "output_type": "execute_result"
    }
   ],
   "source": [
    "# get template\n",
    "tmpl = env.get_template('form1.html')\n",
    "tmpl"
   ]
  },
  {
   "cell_type": "code",
   "execution_count": 13,
   "metadata": {},
   "outputs": [
    {
     "name": "stdout",
     "output_type": "stream",
     "text": [
      "<!DOCTYPE html>\n",
      "<html>\n",
      "    <head>\n",
      "            <title></title>\n",
      "            <link rel=\"stylesheet\" href=\"path_to_css_file\">\n",
      "    </head>\n",
      "\n",
      "    <body>\n",
      "        <div>\n",
      "            <h1>General information</h1>\n",
      "            \n",
      "              <li>data: 2020-11-19</li>\n",
      "            \n",
      "              <li>country: Albania</li>\n",
      "            \n",
      "              <li>author: John Kowalski</li>\n",
      "            \n",
      "              <li>faculty: medicine</li>\n",
      "            \n",
      "        </div>\n",
      "\n",
      "    </body>\n",
      "</html>\n"
     ]
    }
   ],
   "source": [
    "# render template\n",
    "print(tmpl.render(general=sl))"
   ]
  },
  {
   "cell_type": "code",
   "execution_count": 14,
   "metadata": {},
   "outputs": [],
   "source": [
    "with open('forms/report.html','w') as f:\n",
    "    f.write(tmpl.render(general=sl))"
   ]
  },
  {
   "cell_type": "markdown",
   "metadata": {},
   "source": [
    "### 3.1. Create function"
   ]
  },
  {
   "cell_type": "code",
   "execution_count": 15,
   "metadata": {},
   "outputs": [],
   "source": [
    "def createRap(addTempFol,name,data,out='report'):\n",
    "    ''' Args:\n",
    "            - addTempFol:   str, path to templates folder\n",
    "            - name:         str, name of template file\n",
    "            - data:         obj - dict, list,...\n",
    "            - dataAdd:      str, path to data folder\n",
    "            - out:         str, name of report file\n",
    "    '''\n",
    "    \n",
    "    # jijnja2 Environemnt\n",
    "    addTempFol = Path(addTempFol).resolve()\n",
    "    loader = jinja2.FileSystemLoader(addTempFol.as_posix())\n",
    "    \n",
    "    env = jinja2.Environment(loader=loader)\n",
    "    template = env.get_template(name)\n",
    "    \n",
    "    htmlDoc = template.render(general=data)\n",
    "    \n",
    "    # report path\n",
    "    addRep = addTempFol.joinpath(f'{out}.html')\n",
    "    with open(addRep,'w') as f:\n",
    "        f.write(htmlDoc)\n",
    "        print(f'Report saved to: {addRep.as_posix()}\\n')\n",
    "    "
   ]
  },
  {
   "cell_type": "code",
   "execution_count": 16,
   "metadata": {},
   "outputs": [
    {
     "name": "stdout",
     "output_type": "stream",
     "text": [
      "Report saved to: /home/u1/22_dydaktyka/04inzynier/proj1/forms/newRep.html\n",
      "\n"
     ]
    }
   ],
   "source": [
    "# testing function\n",
    "createRap('forms/','form2.html',sl,'newRep')"
   ]
  },
  {
   "cell_type": "markdown",
   "metadata": {},
   "source": [
    "# 4. Styling the appearance of the document using the cascading 'css' style sheets\n",
    "\n",
    "\n",
    "Where to find information:\n",
    "  - `html` [see here](https://www.w3schools.com/html/default.asp)\n",
    "  - `css` [see here](https://www.w3schools.com/css/default.asp)\n",
    "  - `colors` [see here](https://www.w3schools.com/colors/colors_rgb.asp)\n",
    "  \n",
    "\n",
    "### 4.1. Using `jinja2` filters\n",
    "\n",
    "In order to change the selected text in the document, you can apply filters, e.g. to change lower case letters to capital letters, add the `upper` filter to the template:\n",
    "\n",
    "> \\{ \\{ key | upper \\} \\} : \\{ \\{ val \\} \\}\n",
    "\n",
    "\n",
    "\n",
    "### 4.2. `<span>` tag\n",
    "\n",
    "[HTML Block and Inline Elements](https://www.w3schools.com/html/html_blocks.asp)\n",
    "\n",
    "In order to format the keys and values separately, you can wrap each of these elements with the `span` tag, e.g .:\n",
    "\n",
    "> < li > < span >\\{ \\{ key | upper \\} \\}:</ span >< span >\\{ \\{ val \\} \\}</ span ></ li >\n",
    "\n",
    "\n",
    "\n",
    "### 4.3. `css` file\n",
    "\n",
    "Setting the colors, sizes and other appearance characteristics of the document elements can be done by creating a `css` file describing the appearance of the document.\n",
    "\n",
    "To attach a `css` file (`first.css`) to an `html` document, use the entry in the document header, e.g .:\n",
    "\n",
    "> < link rel=\"stylesheet\" href=\"xxx.css\" >"
   ]
  },
  {
   "cell_type": "code",
   "execution_count": 18,
   "metadata": {},
   "outputs": [
    {
     "name": "stdout",
     "output_type": "stream",
     "text": [
      "body {\n",
      "  background-color: #c8ccb0;\n",
      "}\n",
      "\n",
      "h1 {\n",
      "  color: green;\n",
      "  text-align: center;\n",
      "}\n",
      "\n",
      "span.gen1 {\n",
      "  display: inline-block;\n",
      "  width: 3cm;\n",
      "  color: #0605fb;\n",
      "\n",
      "}\n",
      "\n",
      "\n",
      "span.gen2 {\n",
      "  display: inline-block;\n",
      "  width: 6cm;\n",
      "  color: green;\n",
      "\n",
      "}\n",
      "\n"
     ]
    }
   ],
   "source": [
    "with open('forms/first.css') as f:\n",
    "    css = f.read()\n",
    "print(css)"
   ]
  },
  {
   "cell_type": "code",
   "execution_count": 19,
   "metadata": {},
   "outputs": [],
   "source": [
    "#"
   ]
  }
 ],
 "metadata": {
  "kernelspec": {
   "display_name": "Python [conda env:lab2]",
   "language": "python",
   "name": "conda-env-lab2-py"
  },
  "language_info": {
   "codemirror_mode": {
    "name": "ipython",
    "version": 3
   },
   "file_extension": ".py",
   "mimetype": "text/x-python",
   "name": "python",
   "nbconvert_exporter": "python",
   "pygments_lexer": "ipython3",
   "version": "3.7.8"
  },
  "latex_envs": {
   "LaTeX_envs_menu_present": true,
   "autoclose": false,
   "autocomplete": true,
   "bibliofile": "biblio.bib",
   "cite_by": "apalike",
   "current_citInitial": 1,
   "eqLabelWithNumbers": true,
   "eqNumInitial": 1,
   "hotkeys": {
    "equation": "Ctrl-E",
    "itemize": "Ctrl-I"
   },
   "labels_anchors": false,
   "latex_user_defs": false,
   "report_style_numbering": false,
   "user_envs_cfg": false
  }
 },
 "nbformat": 4,
 "nbformat_minor": 4
}
