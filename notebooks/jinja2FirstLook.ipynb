{
 "cells": [
  {
   "cell_type": "code",
   "execution_count": 1,
   "metadata": {},
   "outputs": [],
   "source": [
    "import numpy as np\n",
    "import pandas as pd\n",
    "from matplotlib import pyplot as plt\n",
    "import jinja2"
   ]
  },
  {
   "cell_type": "code",
   "execution_count": 2,
   "metadata": {},
   "outputs": [],
   "source": [
    "name= 'Adam'\n",
    "age=23"
   ]
  },
  {
   "cell_type": "code",
   "execution_count": 3,
   "metadata": {},
   "outputs": [
    {
     "data": {
      "text/plain": [
       "<Template memory:7fa5ce74ef10>"
      ]
     },
     "execution_count": 3,
     "metadata": {},
     "output_type": "execute_result"
    }
   ],
   "source": [
    "tmpl = jinja2.Template('My name is {{ name }} and age {{ age }}')\n",
    "tmpl"
   ]
  },
  {
   "cell_type": "code",
   "execution_count": 4,
   "metadata": {},
   "outputs": [
    {
     "data": {
      "text/plain": [
       "'My name is Mark and age 33'"
      ]
     },
     "execution_count": 4,
     "metadata": {},
     "output_type": "execute_result"
    }
   ],
   "source": [
    "tmpl.render(name='Mark',age=33)"
   ]
  },
  {
   "cell_type": "code",
   "execution_count": 5,
   "metadata": {},
   "outputs": [
    {
     "data": {
      "text/plain": [
       "'My name is Adam and age 23'"
      ]
     },
     "execution_count": 5,
     "metadata": {},
     "output_type": "execute_result"
    }
   ],
   "source": [
    "tmpl.render(name=name,age=age)"
   ]
  },
  {
   "cell_type": "code",
   "execution_count": 7,
   "metadata": {},
   "outputs": [
    {
     "data": {
      "text/plain": [
       "<Template memory:7fa5ce568a90>"
      ]
     },
     "execution_count": 7,
     "metadata": {},
     "output_type": "execute_result"
    }
   ],
   "source": [
    "tmpl = jinja2.Template('My name is {{ dt.name }} and age {{ dt.age }}')\n",
    "tmpl"
   ]
  },
  {
   "cell_type": "code",
   "execution_count": 8,
   "metadata": {},
   "outputs": [],
   "source": [
    "sl = {'name' : 'Adam', 'age':23}"
   ]
  },
  {
   "cell_type": "code",
   "execution_count": 9,
   "metadata": {},
   "outputs": [
    {
     "data": {
      "text/plain": [
       "'My name is Adam and age 23'"
      ]
     },
     "execution_count": 9,
     "metadata": {},
     "output_type": "execute_result"
    }
   ],
   "source": [
    "tmpl.render(dt=sl)"
   ]
  },
  {
   "cell_type": "markdown",
   "metadata": {},
   "source": [
    "# HTML"
   ]
  },
  {
   "cell_type": "code",
   "execution_count": 11,
   "metadata": {},
   "outputs": [
    {
     "data": {
      "text/html": [
       "\n",
       "<!DOCTYPE html>\n",
       "<html>\n",
       "    <head>\n",
       "            <title>Page Title</title>\n",
       "    </head>\n",
       "    \n",
       "    <body>\n",
       "\n",
       "        <h1>This is a Heading</h1>\n",
       "        <p>This is a paragraph.</p>\n",
       "\n",
       "    </body>\n",
       "</html>"
      ],
      "text/plain": [
       "<IPython.core.display.HTML object>"
      ]
     },
     "metadata": {},
     "output_type": "display_data"
    }
   ],
   "source": [
    "%%HTML\n",
    "\n",
    "<!DOCTYPE html>\n",
    "<html>\n",
    "    <head>\n",
    "            <title>Page Title</title>\n",
    "    </head>\n",
    "    \n",
    "    <body>\n",
    "\n",
    "        <h1>This is a Heading</h1>\n",
    "        <p>This is a paragraph.</p>\n",
    "\n",
    "    </body>\n",
    "</html>"
   ]
  },
  {
   "cell_type": "code",
   "execution_count": 33,
   "metadata": {},
   "outputs": [
    {
     "data": {
      "text/plain": [
       "<Template memory:7fa5c6257050>"
      ]
     },
     "execution_count": 33,
     "metadata": {},
     "output_type": "execute_result"
    }
   ],
   "source": [
    "tmpl = jinja2.Template('''<!DOCTYPE html>\n",
    "<html>\n",
    "    <head>\n",
    "            <title>Page Title</title>\n",
    "    </head>\n",
    "    \n",
    "    <body>\n",
    "\n",
    "        <h1>This is a Heading</h1>\n",
    "        <p>{{dt.name}}</p>\n",
    "        <p>{{dt.age}}</p>\n",
    "        \n",
    "        \n",
    "        {% for it in dataList %}\n",
    "          <li>{{ it.tbl }}</li>\n",
    "          <img src={{ it.im }} alt=\"alternatetext\">\n",
    "        {% endfor %}\n",
    "\n",
    "    </body>\n",
    "</html>\n",
    "''')\n",
    "\n",
    "tmpl"
   ]
  },
  {
   "cell_type": "code",
   "execution_count": 14,
   "metadata": {},
   "outputs": [],
   "source": [
    "from IPython.core.display import display, HTML"
   ]
  },
  {
   "cell_type": "code",
   "execution_count": 17,
   "metadata": {
    "scrolled": true
   },
   "outputs": [
    {
     "data": {
      "text/html": [
       "<!DOCTYPE html>\n",
       "<html>\n",
       "    <head>\n",
       "            <title>Page Title</title>\n",
       "    </head>\n",
       "    \n",
       "    <body>\n",
       "\n",
       "        <h1>This is a Heading</h1>\n",
       "        <p>Adam</p>\n",
       "        <p>23</p>\n",
       "\n",
       "    </body>\n",
       "</html>"
      ],
      "text/plain": [
       "<IPython.core.display.HTML object>"
      ]
     },
     "metadata": {},
     "output_type": "display_data"
    }
   ],
   "source": [
    "display(HTML(tmpl.render(dt=sl)))"
   ]
  },
  {
   "cell_type": "code",
   "execution_count": 19,
   "metadata": {},
   "outputs": [
    {
     "data": {
      "text/plain": [
       "range(0, 9)"
      ]
     },
     "execution_count": 19,
     "metadata": {},
     "output_type": "execute_result"
    }
   ],
   "source": [
    "ll = range(9)\n",
    "ll"
   ]
  },
  {
   "cell_type": "code",
   "execution_count": 20,
   "metadata": {},
   "outputs": [
    {
     "data": {
      "text/html": [
       "<!DOCTYPE html>\n",
       "<html>\n",
       "    <head>\n",
       "            <title>Page Title</title>\n",
       "    </head>\n",
       "    \n",
       "    <body>\n",
       "\n",
       "        <h1>This is a Heading</h1>\n",
       "        <p>Adam</p>\n",
       "        <p>23</p>\n",
       "        \n",
       "        \n",
       "        \n",
       "          <li>0</li>\n",
       "        \n",
       "          <li>1</li>\n",
       "        \n",
       "          <li>2</li>\n",
       "        \n",
       "          <li>3</li>\n",
       "        \n",
       "          <li>4</li>\n",
       "        \n",
       "          <li>5</li>\n",
       "        \n",
       "          <li>6</li>\n",
       "        \n",
       "          <li>7</li>\n",
       "        \n",
       "          <li>8</li>\n",
       "        \n",
       "\n",
       "    </body>\n",
       "</html>"
      ],
      "text/plain": [
       "<IPython.core.display.HTML object>"
      ]
     },
     "metadata": {},
     "output_type": "display_data"
    }
   ],
   "source": [
    "display(HTML(tmpl.render(dt=sl, myList=ll)))"
   ]
  },
  {
   "cell_type": "code",
   "execution_count": 21,
   "metadata": {},
   "outputs": [
    {
     "data": {
      "text/plain": [
       "'/home/u1/22_dydaktyka/04inzynier/notebooks'"
      ]
     },
     "execution_count": 21,
     "metadata": {},
     "output_type": "execute_result"
    }
   ],
   "source": [
    "%pwd"
   ]
  },
  {
   "cell_type": "code",
   "execution_count": 22,
   "metadata": {},
   "outputs": [
    {
     "data": {
      "text/html": [
       "<div>\n",
       "<style scoped>\n",
       "    .dataframe tbody tr th:only-of-type {\n",
       "        vertical-align: middle;\n",
       "    }\n",
       "\n",
       "    .dataframe tbody tr th {\n",
       "        vertical-align: top;\n",
       "    }\n",
       "\n",
       "    .dataframe thead th {\n",
       "        text-align: right;\n",
       "    }\n",
       "</style>\n",
       "<table border=\"1\" class=\"dataframe\">\n",
       "  <thead>\n",
       "    <tr style=\"text-align: right;\">\n",
       "      <th></th>\n",
       "      <th>Country</th>\n",
       "      <th>geo</th>\n",
       "      <th>zone</th>\n",
       "      <th>island</th>\n",
       "      <th>c2020</th>\n",
       "    </tr>\n",
       "  </thead>\n",
       "  <tbody>\n",
       "    <tr>\n",
       "      <th>0</th>\n",
       "      <td>Afghanistan</td>\n",
       "      <td>Asia</td>\n",
       "      <td>south</td>\n",
       "      <td>no</td>\n",
       "      <td>38928341</td>\n",
       "    </tr>\n",
       "    <tr>\n",
       "      <th>1</th>\n",
       "      <td>Albania</td>\n",
       "      <td>Europe</td>\n",
       "      <td>south</td>\n",
       "      <td>no</td>\n",
       "      <td>2877800</td>\n",
       "    </tr>\n",
       "    <tr>\n",
       "      <th>2</th>\n",
       "      <td>Algeria</td>\n",
       "      <td>Africa</td>\n",
       "      <td>north</td>\n",
       "      <td>no</td>\n",
       "      <td>43851043</td>\n",
       "    </tr>\n",
       "    <tr>\n",
       "      <th>3</th>\n",
       "      <td>American Samoa</td>\n",
       "      <td>Oceania</td>\n",
       "      <td>other</td>\n",
       "      <td>yes</td>\n",
       "      <td>55197</td>\n",
       "    </tr>\n",
       "    <tr>\n",
       "      <th>4</th>\n",
       "      <td>Andorra</td>\n",
       "      <td>Europe</td>\n",
       "      <td>south</td>\n",
       "      <td>no</td>\n",
       "      <td>77265</td>\n",
       "    </tr>\n",
       "  </tbody>\n",
       "</table>\n",
       "</div>"
      ],
      "text/plain": [
       "          Country      geo   zone island     c2020\n",
       "0     Afghanistan     Asia  south     no  38928341\n",
       "1         Albania   Europe  south     no   2877800\n",
       "2         Algeria   Africa  north     no  43851043\n",
       "3  American Samoa  Oceania  other    yes     55197\n",
       "4         Andorra   Europe  south     no     77265"
      ]
     },
     "execution_count": 22,
     "metadata": {},
     "output_type": "execute_result"
    }
   ],
   "source": [
    "df = pd.read_csv('../data/countryPopulation.csv',sep=';')\n",
    "df.head()"
   ]
  },
  {
   "cell_type": "code",
   "execution_count": 34,
   "metadata": {},
   "outputs": [
    {
     "data": {
      "image/png": "[encoded data removed]",
      "text/plain": [
       "<Figure size 432x288 with 1 Axes>"
      ]
     },
     "metadata": {
      "needs_background": "light"
     },
     "output_type": "display_data"
    }
   ],
   "source": [
    "step = 5\n",
    "ll = []\n",
    "add = '../img/im0{}.png'\n",
    "sl = {}\n",
    "\n",
    "for i in range(4):\n",
    "    tmp = df.iloc[i:i+step,:]\n",
    "    plt.bar(tmp.Country,tmp.c2020)\n",
    "    plt.savefig(add.format(i+1))\n",
    "    tmp = tmp.to_html()\n",
    "    \n",
    "    sl['tbl'] = tmp\n",
    "    sl['im'] = add.format(i+1)\n",
    "    \n",
    "    ll.append(sl)\n",
    "    "
   ]
  },
  {
   "cell_type": "code",
   "execution_count": 36,
   "metadata": {
    "scrolled": false
   },
   "outputs": [
    {
     "data": {
      "text/html": [
       "<!DOCTYPE html>\n",
       "<html>\n",
       "    <head>\n",
       "            <title>Page Title</title>\n",
       "    </head>\n",
       "    \n",
       "    <body>\n",
       "\n",
       "        <h1>This is a Heading</h1>\n",
       "        <p></p>\n",
       "        <p></p>\n",
       "        \n",
       "        \n",
       "        \n",
       "          <li><table border=\"1\" class=\"dataframe\">\n",
       "  <thead>\n",
       "    <tr style=\"text-align: right;\">\n",
       "      <th></th>\n",
       "      <th>Country</th>\n",
       "      <th>geo</th>\n",
       "      <th>zone</th>\n",
       "      <th>island</th>\n",
       "      <th>c2020</th>\n",
       "    </tr>\n",
       "  </thead>\n",
       "  <tbody>\n",
       "    <tr>\n",
       "      <th>3</th>\n",
       "      <td>American Samoa</td>\n",
       "      <td>Oceania</td>\n",
       "      <td>other</td>\n",
       "      <td>yes</td>\n",
       "      <td>55197</td>\n",
       "    </tr>\n",
       "    <tr>\n",
       "      <th>4</th>\n",
       "      <td>Andorra</td>\n",
       "      <td>Europe</td>\n",
       "      <td>south</td>\n",
       "      <td>no</td>\n",
       "      <td>77265</td>\n",
       "    </tr>\n",
       "    <tr>\n",
       "      <th>5</th>\n",
       "      <td>Angola</td>\n",
       "      <td>Africa</td>\n",
       "      <td>middle</td>\n",
       "      <td>no</td>\n",
       "      <td>32866267</td>\n",
       "    </tr>\n",
       "    <tr>\n",
       "      <th>6</th>\n",
       "      <td>Anguilla</td>\n",
       "      <td>America</td>\n",
       "      <td>middle</td>\n",
       "      <td>yes</td>\n",
       "      <td>15002</td>\n",
       "    </tr>\n",
       "    <tr>\n",
       "      <th>7</th>\n",
       "      <td>Antigua And Barbuda</td>\n",
       "      <td>America</td>\n",
       "      <td>middle</td>\n",
       "      <td>yes</td>\n",
       "      <td>97928</td>\n",
       "    </tr>\n",
       "  </tbody>\n",
       "</table></li>\n",
       "          <img src=../img/im04.png alt=\"alternatetext\">\n",
       "        \n",
       "          <li><table border=\"1\" class=\"dataframe\">\n",
       "  <thead>\n",
       "    <tr style=\"text-align: right;\">\n",
       "      <th></th>\n",
       "      <th>Country</th>\n",
       "      <th>geo</th>\n",
       "      <th>zone</th>\n",
       "      <th>island</th>\n",
       "      <th>c2020</th>\n",
       "    </tr>\n",
       "  </thead>\n",
       "  <tbody>\n",
       "    <tr>\n",
       "      <th>3</th>\n",
       "      <td>American Samoa</td>\n",
       "      <td>Oceania</td>\n",
       "      <td>other</td>\n",
       "      <td>yes</td>\n",
       "      <td>55197</td>\n",
       "    </tr>\n",
       "    <tr>\n",
       "      <th>4</th>\n",
       "      <td>Andorra</td>\n",
       "      <td>Europe</td>\n",
       "      <td>south</td>\n",
       "      <td>no</td>\n",
       "      <td>77265</td>\n",
       "    </tr>\n",
       "    <tr>\n",
       "      <th>5</th>\n",
       "      <td>Angola</td>\n",
       "      <td>Africa</td>\n",
       "      <td>middle</td>\n",
       "      <td>no</td>\n",
       "      <td>32866267</td>\n",
       "    </tr>\n",
       "    <tr>\n",
       "      <th>6</th>\n",
       "      <td>Anguilla</td>\n",
       "      <td>America</td>\n",
       "      <td>middle</td>\n",
       "      <td>yes</td>\n",
       "      <td>15002</td>\n",
       "    </tr>\n",
       "    <tr>\n",
       "      <th>7</th>\n",
       "      <td>Antigua And Barbuda</td>\n",
       "      <td>America</td>\n",
       "      <td>middle</td>\n",
       "      <td>yes</td>\n",
       "      <td>97928</td>\n",
       "    </tr>\n",
       "  </tbody>\n",
       "</table></li>\n",
       "          <img src=../img/im04.png alt=\"alternatetext\">\n",
       "        \n",
       "          <li><table border=\"1\" class=\"dataframe\">\n",
       "  <thead>\n",
       "    <tr style=\"text-align: right;\">\n",
       "      <th></th>\n",
       "      <th>Country</th>\n",
       "      <th>geo</th>\n",
       "      <th>zone</th>\n",
       "      <th>island</th>\n",
       "      <th>c2020</th>\n",
       "    </tr>\n",
       "  </thead>\n",
       "  <tbody>\n",
       "    <tr>\n",
       "      <th>3</th>\n",
       "      <td>American Samoa</td>\n",
       "      <td>Oceania</td>\n",
       "      <td>other</td>\n",
       "      <td>yes</td>\n",
       "      <td>55197</td>\n",
       "    </tr>\n",
       "    <tr>\n",
       "      <th>4</th>\n",
       "      <td>Andorra</td>\n",
       "      <td>Europe</td>\n",
       "      <td>south</td>\n",
       "      <td>no</td>\n",
       "      <td>77265</td>\n",
       "    </tr>\n",
       "    <tr>\n",
       "      <th>5</th>\n",
       "      <td>Angola</td>\n",
       "      <td>Africa</td>\n",
       "      <td>middle</td>\n",
       "      <td>no</td>\n",
       "      <td>32866267</td>\n",
       "    </tr>\n",
       "    <tr>\n",
       "      <th>6</th>\n",
       "      <td>Anguilla</td>\n",
       "      <td>America</td>\n",
       "      <td>middle</td>\n",
       "      <td>yes</td>\n",
       "      <td>15002</td>\n",
       "    </tr>\n",
       "    <tr>\n",
       "      <th>7</th>\n",
       "      <td>Antigua And Barbuda</td>\n",
       "      <td>America</td>\n",
       "      <td>middle</td>\n",
       "      <td>yes</td>\n",
       "      <td>97928</td>\n",
       "    </tr>\n",
       "  </tbody>\n",
       "</table></li>\n",
       "          <img src=../img/im04.png alt=\"alternatetext\">\n",
       "        \n",
       "          <li><table border=\"1\" class=\"dataframe\">\n",
       "  <thead>\n",
       "    <tr style=\"text-align: right;\">\n",
       "      <th></th>\n",
       "      <th>Country</th>\n",
       "      <th>geo</th>\n",
       "      <th>zone</th>\n",
       "      <th>island</th>\n",
       "      <th>c2020</th>\n",
       "    </tr>\n",
       "  </thead>\n",
       "  <tbody>\n",
       "    <tr>\n",
       "      <th>3</th>\n",
       "      <td>American Samoa</td>\n",
       "      <td>Oceania</td>\n",
       "      <td>other</td>\n",
       "      <td>yes</td>\n",
       "      <td>55197</td>\n",
       "    </tr>\n",
       "    <tr>\n",
       "      <th>4</th>\n",
       "      <td>Andorra</td>\n",
       "      <td>Europe</td>\n",
       "      <td>south</td>\n",
       "      <td>no</td>\n",
       "      <td>77265</td>\n",
       "    </tr>\n",
       "    <tr>\n",
       "      <th>5</th>\n",
       "      <td>Angola</td>\n",
       "      <td>Africa</td>\n",
       "      <td>middle</td>\n",
       "      <td>no</td>\n",
       "      <td>32866267</td>\n",
       "    </tr>\n",
       "    <tr>\n",
       "      <th>6</th>\n",
       "      <td>Anguilla</td>\n",
       "      <td>America</td>\n",
       "      <td>middle</td>\n",
       "      <td>yes</td>\n",
       "      <td>15002</td>\n",
       "    </tr>\n",
       "    <tr>\n",
       "      <th>7</th>\n",
       "      <td>Antigua And Barbuda</td>\n",
       "      <td>America</td>\n",
       "      <td>middle</td>\n",
       "      <td>yes</td>\n",
       "      <td>97928</td>\n",
       "    </tr>\n",
       "  </tbody>\n",
       "</table></li>\n",
       "          <img src=../img/im04.png alt=\"alternatetext\">\n",
       "        \n",
       "\n",
       "    </body>\n",
       "</html>"
      ],
      "text/plain": [
       "<IPython.core.display.HTML object>"
      ]
     },
     "metadata": {},
     "output_type": "display_data"
    }
   ],
   "source": [
    "display(HTML(tmpl.render(dt=sl, dataList=ll)))"
   ]
  }
 ],
 "metadata": {
  "kernelspec": {
   "display_name": "Python [conda env:lab2]",
   "language": "python",
   "name": "conda-env-lab2-py"
  },
  "language_info": {
   "codemirror_mode": {
    "name": "ipython",
    "version": 3
   },
   "file_extension": ".py",
   "mimetype": "text/x-python",
   "name": "python",
   "nbconvert_exporter": "python",
   "pygments_lexer": "ipython3",
   "version": "3.7.8"
  },
  "latex_envs": {
   "LaTeX_envs_menu_present": true,
   "autoclose": false,
   "autocomplete": true,
   "bibliofile": "biblio.bib",
   "cite_by": "apalike",
   "current_citInitial": 1,
   "eqLabelWithNumbers": true,
   "eqNumInitial": 1,
   "hotkeys": {
    "equation": "Ctrl-E",
    "itemize": "Ctrl-I"
   },
   "labels_anchors": false,
   "latex_user_defs": false,
   "report_style_numbering": false,
   "user_envs_cfg": false
  }
 },
 "nbformat": 4,
 "nbformat_minor": 4
}
